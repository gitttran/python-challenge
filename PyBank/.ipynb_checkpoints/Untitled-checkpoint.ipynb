{
 "cells": [
  {
   "cell_type": "code",
   "execution_count": 7,
   "metadata": {},
   "outputs": [
    {
     "name": "stdout",
     "output_type": "stream",
     "text": [
      "hello\n"
     ]
    }
   ],
   "source": [
    "import csv\n",
    "import os\n",
    "\n",
    "print(\"hello\")"
   ]
  },
  {
   "cell_type": "code",
   "execution_count": 43,
   "metadata": {},
   "outputs": [],
   "source": [
    "fname= './budget_data.csv'\n",
    "date=[]\n",
    "prolo=[]\n",
    "nettotal=0\n",
    "nprolo=[]\n"
   ]
  },
  {
   "cell_type": "code",
   "execution_count": 44,
   "metadata": {},
   "outputs": [],
   "source": [
    "with open(fname) as csvfile:\n",
    "    csvreader = csv.reader(csvfile)\n",
    "    header = next(csvreader)\n",
    "    \n",
    "    for row in csvreader:\n",
    "        date.append(row[0])\n",
    "        prolo.append(row[1])\n",
    "        nettotal= nettotal + float(row[1])\n",
    "        \n",
    "        #print(row)\n",
    "\n",
    "    for i in prolo:\n",
    "        nprolo.append(float(i))\n",
    "        \n",
    "\n",
    "    "
   ]
  },
  {
   "cell_type": "code",
   "execution_count": 48,
   "metadata": {},
   "outputs": [
    {
     "name": "stdout",
     "output_type": "stream",
     "text": [
      "1170593.0\n",
      "-1196225.0\n"
     ]
    }
   ],
   "source": [
    "length= len(date)\n",
    "ave= float(nettotal) / float(length)\n",
    "ave = round(ave,2)\n",
    "\n",
    "\n",
    "maximum= max(nprolo)\n",
    "minimum= min(nprolo)\n",
    "print(maximum)\n",
    "print(minimum)"
   ]
  },
  {
   "cell_type": "code",
   "execution_count": 50,
   "metadata": {},
   "outputs": [
    {
     "name": "stdout",
     "output_type": "stream",
     "text": [
      "Total Months: 86\n",
      "Total: $38382578.0 \n",
      "Average Change: $446309.05\n",
      "Greatest increase in profits: $1170593.0 \n",
      "Greatest decrease in profits: $-1196225.0 \n"
     ]
    }
   ],
   "source": [
    "totalmonths= length\n",
    "print(f\"Total Months: {totalmonths}\")\n",
    "print(f\"Total: ${nettotal} \")\n",
    "print(f\"Average Change: ${ave}\")\n",
    "print(f\"Greatest increase in profits: ${maximum} \")\n",
    "print(f\"Greatest decrease in profits: ${minimum} \")"
   ]
  },
  {
   "cell_type": "code",
   "execution_count": 6,
   "metadata": {},
   "outputs": [
    {
     "name": "stdout",
     "output_type": "stream",
     "text": [
      "hello\n"
     ]
    }
   ],
   "source": []
  },
  {
   "cell_type": "code",
   "execution_count": null,
   "metadata": {},
   "outputs": [],
   "source": []
  },
  {
   "cell_type": "code",
   "execution_count": null,
   "metadata": {},
   "outputs": [],
   "source": []
  }
 ],
 "metadata": {
  "kernelspec": {
   "display_name": "Python 3",
   "language": "python",
   "name": "python3"
  },
  "language_info": {
   "codemirror_mode": {
    "name": "ipython",
    "version": 3
   },
   "file_extension": ".py",
   "mimetype": "text/x-python",
   "name": "python",
   "nbconvert_exporter": "python",
   "pygments_lexer": "ipython3",
   "version": "3.6.5"
  }
 },
 "nbformat": 4,
 "nbformat_minor": 2
}
